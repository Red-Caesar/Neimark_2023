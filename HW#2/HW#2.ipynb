{
 "cells": [
  {
   "cell_type": "markdown",
   "metadata": {},
   "source": [
    "**Классификация изображений с помощью сверточных нейронных сетей**\n",
    "\n",
    "В данном задании Вам необходимо разработать архитектуру сверточной ИНС, обеспечивающую наибольшую точность при ограничении на количество операций (FLOPs <= 0.707e6).\n",
    "Заготовка кода для выполнения задания приведена выше. Вашей задачей будет заполнить пропущеные места, которые отмечены ключевым словом *None*.\n",
    "Необходимая точность (accuracy) сети на датасете CIFAR100 - 30%\n",
    "Желаемая точность (accuracy) сети на датасете CIFAR100 - 45%"
   ]
  },
  {
   "cell_type": "code",
   "execution_count": 1,
   "metadata": {
    "_cell_guid": "b1076dfc-b9ad-4769-8c92-a6c4dae69d19",
    "_uuid": "8f2839f25d086af736a60e9eeb907d3b93b6e0e5",
    "tags": []
   },
   "outputs": [],
   "source": [
    "# Импорт необходимых библиотек\n",
    "import numpy as np\n",
    "import pandas as pd\n",
    "import tensorflow as tf\n",
    "from keras_flops import get_flops"
   ]
  },
  {
   "cell_type": "code",
   "execution_count": 2,
   "metadata": {
    "tags": []
   },
   "outputs": [],
   "source": [
    "# Глобальные константы\n",
    "CLASSES       = 100\n",
    "BATCH_SIZE    = 128\n",
    "LEARNING_RATE = 1e-2"
   ]
  },
  {
   "cell_type": "code",
   "execution_count": 3,
   "metadata": {
    "tags": []
   },
   "outputs": [
    {
     "name": "stdout",
     "output_type": "stream",
     "text": [
      "Downloading data from https://www.cs.toronto.edu/~kriz/cifar-100-python.tar.gz\n",
      "169001437/169001437 [==============================] - 573s 3us/step\n"
     ]
    }
   ],
   "source": [
    "# Выполните загрузку модели\n",
    "(X_train, y_train), (X_val, y_val) = tf.keras.datasets.cifar100.load_data()"
   ]
  },
  {
   "cell_type": "markdown",
   "metadata": {},
   "source": [
    "Подробрнее о датасете можно прочитать тут - https://www.kaggle.com/datasets/fedesoriano/cifar100?select=train\n",
    "\n",
    "Если кратко, то датасет на 60000 фотографий. Изображения делятся на 100 классов по 600 изображений в каждом."
   ]
  },
  {
   "cell_type": "code",
   "execution_count": 4,
   "metadata": {
    "tags": []
   },
   "outputs": [],
   "source": [
    "# Преобразуйте метки классов в one_hot формат\n",
    "from sklearn.preprocessing import OneHotEncoder\n",
    "enc = OneHotEncoder(sparse=False)\n",
    "y_train = enc.fit_transform(y_train)\n",
    "y_val = enc.fit_transform(y_val)"
   ]
  },
  {
   "cell_type": "code",
   "execution_count": 5,
   "metadata": {
    "tags": []
   },
   "outputs": [],
   "source": [
    "# убедитесь, что данная ячейка выполняется без ошибок\n",
    "assert X_train.shape == (50000, 32, 32, 3)\n",
    "assert X_val.shape == (10000, 32, 32, 3)\n",
    "assert y_train.shape == (50000, 100)\n",
    "assert y_val.shape == (10000, 100)"
   ]
  },
  {
   "cell_type": "code",
   "execution_count": 191,
   "metadata": {
    "tags": []
   },
   "outputs": [],
   "source": [
    "# Задайте архитектуру модели\n",
    "model = tf.keras.models.Sequential([\n",
    "    tf.keras.Input(shape=[32,32,3]),\n",
    "    tf.keras.layers.Conv2D(8, 2, padding='same', activation='relu'),\n",
    "    tf.keras.layers.BatchNormalization(),\n",
    "    tf.keras.layers.MaxPooling2D((3, 3), strides=2),\n",
    "    \n",
    "    tf.keras.layers.Conv2D(16, 2, padding='same', activation='relu'),\n",
    "    tf.keras.layers.BatchNormalization(),\n",
    "    tf.keras.layers.MaxPooling2D((3, 3), strides=2),\n",
    "    \n",
    "    tf.keras.layers.Activation('relu'),\n",
    "    tf.keras.layers.Flatten(),\n",
    "    tf.keras.layers.Dense(CLASSES),\n",
    "    tf.keras.layers.Activation('softmax')\n",
    "])"
   ]
  },
  {
   "cell_type": "code",
   "execution_count": 192,
   "metadata": {
    "tags": []
   },
   "outputs": [
    {
     "name": "stdout",
     "output_type": "stream",
     "text": [
      "FLOPs: 0.6432e6\n"
     ]
    }
   ],
   "source": [
    "# вычисление количества операций\n",
    "flops = get_flops(model, batch_size=1)\n",
    "print(f\"FLOPs: {(flops / 1e6):.4f}e6\")"
   ]
  },
  {
   "cell_type": "code",
   "execution_count": 193,
   "metadata": {
    "tags": []
   },
   "outputs": [
    {
     "name": "stdout",
     "output_type": "stream",
     "text": [
      "Model: \"sequential_77\"\n",
      "_________________________________________________________________\n",
      " Layer (type)                Output Shape              Param #   \n",
      "=================================================================\n",
      " conv2d_193 (Conv2D)         (None, 32, 32, 8)         104       \n",
      "                                                                 \n",
      " batch_normalization_187 (Ba  (None, 32, 32, 8)        32        \n",
      " tchNormalization)                                               \n",
      "                                                                 \n",
      " max_pooling2d_173 (MaxPooli  (None, 15, 15, 8)        0         \n",
      " ng2D)                                                           \n",
      "                                                                 \n",
      " conv2d_194 (Conv2D)         (None, 15, 15, 16)        528       \n",
      "                                                                 \n",
      " batch_normalization_188 (Ba  (None, 15, 15, 16)       64        \n",
      " tchNormalization)                                               \n",
      "                                                                 \n",
      " max_pooling2d_174 (MaxPooli  (None, 7, 7, 16)         0         \n",
      " ng2D)                                                           \n",
      "                                                                 \n",
      " activation_154 (Activation)  (None, 7, 7, 16)         0         \n",
      "                                                                 \n",
      " flatten_85 (Flatten)        (None, 784)               0         \n",
      "                                                                 \n",
      " dense_77 (Dense)            (None, 100)               78500     \n",
      "                                                                 \n",
      " activation_155 (Activation)  (None, 100)              0         \n",
      "                                                                 \n",
      "=================================================================\n",
      "Total params: 79,228\n",
      "Trainable params: 79,180\n",
      "Non-trainable params: 48\n",
      "_________________________________________________________________\n"
     ]
    }
   ],
   "source": [
    "# вывод краткой информации о модели\n",
    "model.summary()"
   ]
  },
  {
   "cell_type": "code",
   "execution_count": 194,
   "metadata": {
    "tags": []
   },
   "outputs": [],
   "source": [
    "# параметры данной ячейки могут быть изменены для получения более высокой точности\n",
    "model.compile(\n",
    "    optimizer=tf.keras.optimizers.Adam(\n",
    "        learning_rate=tf.keras.optimizers.schedules.ExponentialDecay(initial_learning_rate=LEARNING_RATE, decay_steps=10000, decay_rate=0.2)\n",
    "    ),\n",
    "    loss=tf.keras.losses.CategoricalCrossentropy(),\n",
    "    metrics=['accuracy']\n",
    ")"
   ]
  },
  {
   "cell_type": "code",
   "execution_count": 198,
   "metadata": {
    "tags": []
   },
   "outputs": [
    {
     "name": "stdout",
     "output_type": "stream",
     "text": [
      "Epoch 1/30\n",
      "391/391 [==============================] - 11s 28ms/step - loss: 2.2535 - accuracy: 0.4350 - val_loss: 2.9360 - val_accuracy: 0.3112\n",
      "Epoch 2/30\n",
      "391/391 [==============================] - 11s 28ms/step - loss: 2.2472 - accuracy: 0.4342 - val_loss: 2.9365 - val_accuracy: 0.3094\n",
      "Epoch 3/30\n",
      "391/391 [==============================] - 11s 28ms/step - loss: 2.2410 - accuracy: 0.4370 - val_loss: 2.9319 - val_accuracy: 0.3147\n",
      "Epoch 4/30\n",
      "391/391 [==============================] - 11s 28ms/step - loss: 2.2356 - accuracy: 0.4389 - val_loss: 2.9207 - val_accuracy: 0.3168\n",
      "Epoch 5/30\n",
      "391/391 [==============================] - 11s 28ms/step - loss: 2.2313 - accuracy: 0.4396 - val_loss: 2.9478 - val_accuracy: 0.3164\n",
      "Epoch 6/30\n",
      "391/391 [==============================] - 11s 28ms/step - loss: 2.2236 - accuracy: 0.4430 - val_loss: 2.9335 - val_accuracy: 0.3147\n",
      "Epoch 7/30\n",
      "391/391 [==============================] - 11s 28ms/step - loss: 2.2215 - accuracy: 0.4426 - val_loss: 2.9278 - val_accuracy: 0.3140\n",
      "Epoch 8/30\n",
      "391/391 [==============================] - 11s 28ms/step - loss: 2.2168 - accuracy: 0.4437 - val_loss: 2.9340 - val_accuracy: 0.3184\n",
      "Epoch 9/30\n",
      "391/391 [==============================] - 11s 28ms/step - loss: 2.2102 - accuracy: 0.4438 - val_loss: 2.9307 - val_accuracy: 0.3164\n",
      "Epoch 10/30\n",
      "391/391 [==============================] - 11s 28ms/step - loss: 2.2079 - accuracy: 0.4455 - val_loss: 2.9396 - val_accuracy: 0.3146\n",
      "Epoch 11/30\n",
      "391/391 [==============================] - 11s 28ms/step - loss: 2.2004 - accuracy: 0.4465 - val_loss: 2.9349 - val_accuracy: 0.3178\n",
      "Epoch 12/30\n",
      "391/391 [==============================] - 11s 28ms/step - loss: 2.1997 - accuracy: 0.4474 - val_loss: 2.9502 - val_accuracy: 0.3130\n",
      "Epoch 13/30\n",
      "391/391 [==============================] - 11s 28ms/step - loss: 2.1951 - accuracy: 0.4500 - val_loss: 2.9407 - val_accuracy: 0.3188\n",
      "Epoch 14/30\n",
      "391/391 [==============================] - 11s 28ms/step - loss: 2.1908 - accuracy: 0.4498 - val_loss: 2.9454 - val_accuracy: 0.3173\n",
      "Epoch 15/30\n",
      "391/391 [==============================] - 11s 28ms/step - loss: 2.1897 - accuracy: 0.4495 - val_loss: 2.9513 - val_accuracy: 0.3191\n",
      "Epoch 16/30\n",
      "391/391 [==============================] - 11s 28ms/step - loss: 2.1867 - accuracy: 0.4499 - val_loss: 2.9444 - val_accuracy: 0.3156\n",
      "Epoch 17/30\n",
      "391/391 [==============================] - 11s 28ms/step - loss: 2.1837 - accuracy: 0.4507 - val_loss: 2.9547 - val_accuracy: 0.3167\n",
      "Epoch 18/30\n",
      "391/391 [==============================] - 11s 28ms/step - loss: 2.1797 - accuracy: 0.4517 - val_loss: 2.9548 - val_accuracy: 0.3144\n",
      "Epoch 19/30\n",
      "391/391 [==============================] - 11s 28ms/step - loss: 2.1759 - accuracy: 0.4532 - val_loss: 2.9463 - val_accuracy: 0.3175\n",
      "Epoch 20/30\n",
      "391/391 [==============================] - 11s 28ms/step - loss: 2.1727 - accuracy: 0.4515 - val_loss: 2.9684 - val_accuracy: 0.3172\n",
      "Epoch 21/30\n",
      "391/391 [==============================] - 11s 28ms/step - loss: 2.1707 - accuracy: 0.4544 - val_loss: 2.9649 - val_accuracy: 0.3156\n",
      "Epoch 22/30\n",
      "391/391 [==============================] - 11s 28ms/step - loss: 2.1694 - accuracy: 0.4547 - val_loss: 2.9572 - val_accuracy: 0.3175\n",
      "Epoch 23/30\n",
      "391/391 [==============================] - 11s 28ms/step - loss: 2.1660 - accuracy: 0.4572 - val_loss: 2.9572 - val_accuracy: 0.3158\n",
      "Epoch 24/30\n",
      "391/391 [==============================] - 11s 28ms/step - loss: 2.1628 - accuracy: 0.4557 - val_loss: 2.9602 - val_accuracy: 0.3188\n",
      "Epoch 25/30\n",
      "391/391 [==============================] - 11s 28ms/step - loss: 2.1605 - accuracy: 0.4571 - val_loss: 2.9592 - val_accuracy: 0.3186\n",
      "Epoch 26/30\n",
      "391/391 [==============================] - 11s 28ms/step - loss: 2.1586 - accuracy: 0.4583 - val_loss: 2.9598 - val_accuracy: 0.3182\n",
      "Epoch 27/30\n",
      "391/391 [==============================] - 11s 28ms/step - loss: 2.1541 - accuracy: 0.4586 - val_loss: 2.9575 - val_accuracy: 0.3195\n",
      "Epoch 28/30\n",
      "391/391 [==============================] - 11s 28ms/step - loss: 2.1551 - accuracy: 0.4570 - val_loss: 2.9724 - val_accuracy: 0.3190\n",
      "Epoch 29/30\n",
      "391/391 [==============================] - 11s 28ms/step - loss: 2.1519 - accuracy: 0.4584 - val_loss: 2.9638 - val_accuracy: 0.3175\n",
      "Epoch 30/30\n",
      "391/391 [==============================] - 11s 28ms/step - loss: 2.1487 - accuracy: 0.4606 - val_loss: 2.9665 - val_accuracy: 0.3170\n"
     ]
    },
    {
     "data": {
      "text/plain": [
       "<keras.callbacks.History at 0x1c494006fa0>"
      ]
     },
     "execution_count": 198,
     "metadata": {},
     "output_type": "execute_result"
    }
   ],
   "source": [
    "# обучения модели\n",
    "model.fit(\n",
    "    x=X_train,\n",
    "    y=y_train,\n",
    "    validation_data=(X_val, y_val),\n",
    "    batch_size=BATCH_SIZE,\n",
    "    callbacks=[\n",
    "        tf.keras.callbacks.ModelCheckpoint(filepath=\"{epoch:02d}-{val_accuracy:.2f}.hdf5\", save_best_only=True),\n",
    "        \n",
    "    ],\n",
    "    use_multiprocessing=True,\n",
    "    workers=8,\n",
    "    epochs=30\n",
    ")"
   ]
  },
  {
   "cell_type": "code",
   "execution_count": 199,
   "metadata": {},
   "outputs": [
    {
     "name": "stdout",
     "output_type": "stream",
     "text": [
      "313/313 [==============================] - 1s 4ms/step - loss: 2.9665 - accuracy: 0.3170\n",
      "Accuracy: 31.70%\n"
     ]
    }
   ],
   "source": [
    "scores = model.evaluate(X_val, y_val)\n",
    "print(f\"Accuracy: {(scores[1]*100):.2f}%\")"
   ]
  }
 ],
 "metadata": {
  "kernelspec": {
   "display_name": "Python 3 (ipykernel)",
   "language": "python",
   "name": "python3"
  },
  "language_info": {
   "codemirror_mode": {
    "name": "ipython",
    "version": 3
   },
   "file_extension": ".py",
   "mimetype": "text/x-python",
   "name": "python",
   "nbconvert_exporter": "python",
   "pygments_lexer": "ipython3",
   "version": "3.9.13"
  }
 },
 "nbformat": 4,
 "nbformat_minor": 4
}
